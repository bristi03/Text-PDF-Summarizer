{
 "cells": [
  {
   "cell_type": "code",
   "execution_count": 4,
   "id": "4be208c2-7aad-4b92-bd44-9dd46b60dcc7",
   "metadata": {},
   "outputs": [],
   "source": [
    "#!pip install -q bert-extractive-summarizer\n",
    "#!pip install -q spacy==2.1.3\n",
    "#!pip install -q transformers==2.2.2\n",
    "#!pip install -q neuralcoref"
   ]
  },
  {
   "cell_type": "code",
   "execution_count": 5,
   "id": "84064aaa-d739-434e-9fed-414d842fe765",
   "metadata": {},
   "outputs": [],
   "source": [
    "#pip install torch"
   ]
  },
  {
   "cell_type": "code",
   "execution_count": 6,
   "id": "93d58119-3096-422d-baee-3aff327dc200",
   "metadata": {},
   "outputs": [],
   "source": [
    "#pip install bert-extractive-summarizer==0.7.1"
   ]
  },
  {
   "cell_type": "code",
   "execution_count": 1,
   "id": "c88af3c4-1d38-4201-a237-374f68100ef6",
   "metadata": {},
   "outputs": [],
   "source": [
    "from summarizer import Summarizer\n",
    "import pdfplumber\n",
    "from io import BytesIO"
   ]
  },
  {
   "cell_type": "code",
   "execution_count": 12,
   "id": "47a02ea9-46b1-4af2-a6d6-0f4789df7857",
   "metadata": {},
   "outputs": [],
   "source": [
    "def summarize_with_bert(pdf_file):\n",
    "    # Load BERT model for extractive summarization\n",
    "    bert_model = Summarizer()\n",
    "\n",
    "    # Read PDF file\n",
    "    with pdfplumber.open(pdf_file) as pdf:\n",
    "        text = \"\"\n",
    "        for page in pdf.pages:\n",
    "            text += page.extract_text()\n",
    "    text = text.replace('\\n',' ')\n",
    "    # Use BERT for extractive summarization\n",
    "    summary = bert_model(text)  \n",
    "    \n",
    "    return summary"
   ]
  },
  {
   "cell_type": "code",
   "execution_count": 13,
   "id": "b8be6109-c970-4e44-b122-270509f2d6f9",
   "metadata": {},
   "outputs": [
    {
     "name": "stdout",
     "output_type": "stream",
     "text": [
      "DO EPIC SHIT It's the story of a little boy who went on to become a successful entrepreneur, public speaker, angel investor, mentor, and influencer. ' His father had to take out a loan to pay for the plane tickets to the United States. He was in his early twenties when he arrived in the US and was doing well in his studies. He then took a trial leave of absence from his job in 2019 but never returned. He is being widely followed across every social media platforms amassing a following of 3M+ people.\n"
     ]
    }
   ],
   "source": [
    "pdf_file_path = './test/IIC Content.pdf'\n",
    "with open(pdf_file_path, 'rb') as file:\n",
    "    pdf_content = BytesIO(file.read())\n",
    "\n",
    "result_summary = summarize_with_bert(pdf_content)\n",
    "print(result_summary)"
   ]
  },
  {
   "cell_type": "code",
   "execution_count": null,
   "id": "7dfc7185-5a5f-4a1c-95c4-a65cb4d2f94a",
   "metadata": {},
   "outputs": [],
   "source": []
  }
 ],
 "metadata": {
  "kernelspec": {
   "display_name": "Python 3 (ipykernel)",
   "language": "python",
   "name": "python3"
  },
  "language_info": {
   "codemirror_mode": {
    "name": "ipython",
    "version": 3
   },
   "file_extension": ".py",
   "mimetype": "text/x-python",
   "name": "python",
   "nbconvert_exporter": "python",
   "pygments_lexer": "ipython3",
   "version": "3.12.0"
  }
 },
 "nbformat": 4,
 "nbformat_minor": 5
}
