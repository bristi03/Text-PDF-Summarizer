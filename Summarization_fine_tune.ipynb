{
 "cells": [
  {
   "cell_type": "code",
   "execution_count": 1,
   "id": "1197ff94-9ab0-4a77-b02e-348268ac30f7",
   "metadata": {},
   "outputs": [
    {
     "name": "stdout",
     "output_type": "stream",
     "text": [
      "Defaulting to user installation because normal site-packages is not writeable\n",
      "Requirement already satisfied: transformers in c:\\users\\bristi maity\\appdata\\roaming\\python\\python312\\site-packages (4.38.2)\n",
      "Collecting transformers\n",
      "  Downloading transformers-4.39.0-py3-none-any.whl.metadata (134 kB)\n",
      "     ---------------------------------------- 0.0/134.8 kB ? eta -:--:--\n",
      "     ----- ------------------------------- 20.5/134.8 kB 330.3 kB/s eta 0:00:01\n",
      "     ------------------------------- ------ 112.6/134.8 kB 1.3 MB/s eta 0:00:01\n",
      "     -------------------------------------- 134.8/134.8 kB 1.6 MB/s eta 0:00:00\n",
      "Requirement already satisfied: filelock in c:\\users\\bristi maity\\appdata\\roaming\\python\\python312\\site-packages (from transformers) (3.13.1)\n",
      "Requirement already satisfied: huggingface-hub<1.0,>=0.19.3 in c:\\users\\bristi maity\\appdata\\roaming\\python\\python312\\site-packages (from transformers) (0.21.4)\n",
      "Requirement already satisfied: numpy>=1.17 in c:\\users\\bristi maity\\appdata\\roaming\\python\\python312\\site-packages (from transformers) (1.26.4)\n",
      "Requirement already satisfied: packaging>=20.0 in c:\\users\\bristi maity\\appdata\\roaming\\python\\python312\\site-packages (from transformers) (23.2)\n",
      "Requirement already satisfied: pyyaml>=5.1 in c:\\users\\bristi maity\\appdata\\roaming\\python\\python312\\site-packages (from transformers) (6.0.1)\n",
      "Requirement already satisfied: regex!=2019.12.17 in c:\\users\\bristi maity\\appdata\\roaming\\python\\python312\\site-packages (from transformers) (2023.12.25)\n",
      "Requirement already satisfied: requests in c:\\users\\bristi maity\\appdata\\roaming\\python\\python312\\site-packages (from transformers) (2.31.0)\n",
      "Requirement already satisfied: tokenizers<0.19,>=0.14 in c:\\users\\bristi maity\\appdata\\roaming\\python\\python312\\site-packages (from transformers) (0.15.2)\n",
      "Requirement already satisfied: safetensors>=0.4.1 in c:\\users\\bristi maity\\appdata\\roaming\\python\\python312\\site-packages (from transformers) (0.4.2)\n",
      "Requirement already satisfied: tqdm>=4.27 in c:\\users\\bristi maity\\appdata\\roaming\\python\\python312\\site-packages (from transformers) (4.66.2)\n",
      "Requirement already satisfied: fsspec>=2023.5.0 in c:\\users\\bristi maity\\appdata\\roaming\\python\\python312\\site-packages (from huggingface-hub<1.0,>=0.19.3->transformers) (2024.2.0)\n",
      "Requirement already satisfied: typing-extensions>=3.7.4.3 in c:\\users\\bristi maity\\appdata\\roaming\\python\\python312\\site-packages (from huggingface-hub<1.0,>=0.19.3->transformers) (4.10.0)\n",
      "Requirement already satisfied: colorama in c:\\users\\bristi maity\\appdata\\roaming\\python\\python312\\site-packages (from tqdm>=4.27->transformers) (0.4.6)\n",
      "Requirement already satisfied: charset-normalizer<4,>=2 in c:\\users\\bristi maity\\appdata\\roaming\\python\\python312\\site-packages (from requests->transformers) (3.3.2)\n",
      "Requirement already satisfied: idna<4,>=2.5 in c:\\users\\bristi maity\\appdata\\roaming\\python\\python312\\site-packages (from requests->transformers) (3.6)\n",
      "Requirement already satisfied: urllib3<3,>=1.21.1 in c:\\users\\bristi maity\\appdata\\roaming\\python\\python312\\site-packages (from requests->transformers) (2.2.1)\n",
      "Requirement already satisfied: certifi>=2017.4.17 in c:\\users\\bristi maity\\appdata\\roaming\\python\\python312\\site-packages (from requests->transformers) (2024.2.2)\n",
      "Downloading transformers-4.39.0-py3-none-any.whl (8.8 MB)\n",
      "   ---------------------------------------- 0.0/8.8 MB ? eta -:--:--\n",
      "   - -------------------------------------- 0.3/8.8 MB 7.0 MB/s eta 0:00:02\n",
      "   ---- ----------------------------------- 0.9/8.8 MB 9.7 MB/s eta 0:00:01\n",
      "   --------- ------------------------------ 2.1/8.8 MB 14.7 MB/s eta 0:00:01\n",
      "   -------------- ------------------------- 3.2/8.8 MB 16.9 MB/s eta 0:00:01\n",
      "   ------------------------ --------------- 5.5/8.8 MB 23.4 MB/s eta 0:00:01\n",
      "   ----------------------------- ---------- 6.4/8.8 MB 22.8 MB/s eta 0:00:01\n",
      "   --------------------------------- ------ 7.4/8.8 MB 21.4 MB/s eta 0:00:01\n",
      "   ------------------------------------- -- 8.3/8.8 MB 22.1 MB/s eta 0:00:01\n",
      "   ---------------------------------------- 8.8/8.8 MB 20.1 MB/s eta 0:00:00\n",
      "Installing collected packages: transformers\n",
      "  Attempting uninstall: transformers\n",
      "    Found existing installation: transformers 4.38.2\n",
      "    Uninstalling transformers-4.38.2:\n",
      "      Successfully uninstalled transformers-4.38.2\n",
      "Successfully installed transformers-4.39.0\n"
     ]
    },
    {
     "name": "stderr",
     "output_type": "stream",
     "text": [
      "\n",
      "[notice] A new release of pip is available: 23.3.1 -> 24.0\n",
      "[notice] To update, run: python.exe -m pip install --upgrade pip\n"
     ]
    },
    {
     "name": "stdout",
     "output_type": "stream",
     "text": [
      "Defaulting to user installation because normal site-packages is not writeable"
     ]
    },
    {
     "name": "stderr",
     "output_type": "stream",
     "text": [
      "\n",
      "[notice] A new release of pip is available: 23.3.1 -> 24.0\n",
      "[notice] To update, run: python.exe -m pip install --upgrade pip\n"
     ]
    },
    {
     "name": "stdout",
     "output_type": "stream",
     "text": [
      "\n",
      "Requirement already satisfied: accelerate in c:\\users\\bristi maity\\appdata\\roaming\\python\\python312\\site-packages (0.28.0)\n",
      "Requirement already satisfied: numpy>=1.17 in c:\\users\\bristi maity\\appdata\\roaming\\python\\python312\\site-packages (from accelerate) (1.26.4)\n",
      "Requirement already satisfied: packaging>=20.0 in c:\\users\\bristi maity\\appdata\\roaming\\python\\python312\\site-packages (from accelerate) (23.2)\n",
      "Requirement already satisfied: psutil in c:\\users\\bristi maity\\appdata\\roaming\\python\\python312\\site-packages (from accelerate) (5.9.8)\n",
      "Requirement already satisfied: pyyaml in c:\\users\\bristi maity\\appdata\\roaming\\python\\python312\\site-packages (from accelerate) (6.0.1)\n",
      "Requirement already satisfied: torch>=1.10.0 in c:\\users\\bristi maity\\appdata\\roaming\\python\\python312\\site-packages (from accelerate) (2.2.1)\n",
      "Requirement already satisfied: huggingface-hub in c:\\users\\bristi maity\\appdata\\roaming\\python\\python312\\site-packages (from accelerate) (0.21.4)\n",
      "Requirement already satisfied: safetensors>=0.3.1 in c:\\users\\bristi maity\\appdata\\roaming\\python\\python312\\site-packages (from accelerate) (0.4.2)\n",
      "Requirement already satisfied: filelock in c:\\users\\bristi maity\\appdata\\roaming\\python\\python312\\site-packages (from torch>=1.10.0->accelerate) (3.13.1)\n",
      "Requirement already satisfied: typing-extensions>=4.8.0 in c:\\users\\bristi maity\\appdata\\roaming\\python\\python312\\site-packages (from torch>=1.10.0->accelerate) (4.10.0)\n",
      "Requirement already satisfied: sympy in c:\\users\\bristi maity\\appdata\\roaming\\python\\python312\\site-packages (from torch>=1.10.0->accelerate) (1.12)\n",
      "Requirement already satisfied: networkx in c:\\users\\bristi maity\\appdata\\roaming\\python\\python312\\site-packages (from torch>=1.10.0->accelerate) (3.2.1)\n",
      "Requirement already satisfied: jinja2 in c:\\users\\bristi maity\\appdata\\roaming\\python\\python312\\site-packages (from torch>=1.10.0->accelerate) (3.1.3)\n",
      "Requirement already satisfied: fsspec in c:\\users\\bristi maity\\appdata\\roaming\\python\\python312\\site-packages (from torch>=1.10.0->accelerate) (2024.2.0)\n",
      "Requirement already satisfied: requests in c:\\users\\bristi maity\\appdata\\roaming\\python\\python312\\site-packages (from huggingface-hub->accelerate) (2.31.0)\n",
      "Requirement already satisfied: tqdm>=4.42.1 in c:\\users\\bristi maity\\appdata\\roaming\\python\\python312\\site-packages (from huggingface-hub->accelerate) (4.66.2)\n",
      "Requirement already satisfied: colorama in c:\\users\\bristi maity\\appdata\\roaming\\python\\python312\\site-packages (from tqdm>=4.42.1->huggingface-hub->accelerate) (0.4.6)\n",
      "Requirement already satisfied: MarkupSafe>=2.0 in c:\\users\\bristi maity\\appdata\\roaming\\python\\python312\\site-packages (from jinja2->torch>=1.10.0->accelerate) (2.1.5)\n",
      "Requirement already satisfied: charset-normalizer<4,>=2 in c:\\users\\bristi maity\\appdata\\roaming\\python\\python312\\site-packages (from requests->huggingface-hub->accelerate) (3.3.2)\n",
      "Requirement already satisfied: idna<4,>=2.5 in c:\\users\\bristi maity\\appdata\\roaming\\python\\python312\\site-packages (from requests->huggingface-hub->accelerate) (3.6)\n",
      "Requirement already satisfied: urllib3<3,>=1.21.1 in c:\\users\\bristi maity\\appdata\\roaming\\python\\python312\\site-packages (from requests->huggingface-hub->accelerate) (2.2.1)\n",
      "Requirement already satisfied: certifi>=2017.4.17 in c:\\users\\bristi maity\\appdata\\roaming\\python\\python312\\site-packages (from requests->huggingface-hub->accelerate) (2024.2.2)\n",
      "Requirement already satisfied: mpmath>=0.19 in c:\\users\\bristi maity\\appdata\\roaming\\python\\python312\\site-packages (from sympy->torch>=1.10.0->accelerate) (1.3.0)\n",
      "Defaulting to user installation because normal site-packages is not writeable\n",
      "Requirement already satisfied: datasets in c:\\users\\bristi maity\\appdata\\roaming\\python\\python312\\site-packages (2.18.0)\n",
      "Requirement already satisfied: filelock in c:\\users\\bristi maity\\appdata\\roaming\\python\\python312\\site-packages (from datasets) (3.13.1)\n",
      "Requirement already satisfied: numpy>=1.17 in c:\\users\\bristi maity\\appdata\\roaming\\python\\python312\\site-packages (from datasets) (1.26.4)\n",
      "Requirement already satisfied: pyarrow>=12.0.0 in c:\\users\\bristi maity\\appdata\\roaming\\python\\python312\\site-packages (from datasets) (15.0.2)\n",
      "Requirement already satisfied: pyarrow-hotfix in c:\\users\\bristi maity\\appdata\\roaming\\python\\python312\\site-packages (from datasets) (0.6)\n",
      "Requirement already satisfied: dill<0.3.9,>=0.3.0 in c:\\users\\bristi maity\\appdata\\roaming\\python\\python312\\site-packages (from datasets) (0.3.8)\n",
      "Requirement already satisfied: pandas in c:\\users\\bristi maity\\appdata\\roaming\\python\\python312\\site-packages (from datasets) (2.2.0)\n",
      "Requirement already satisfied: requests>=2.19.0 in c:\\users\\bristi maity\\appdata\\roaming\\python\\python312\\site-packages (from datasets) (2.31.0)\n",
      "Requirement already satisfied: tqdm>=4.62.1 in c:\\users\\bristi maity\\appdata\\roaming\\python\\python312\\site-packages (from datasets) (4.66.2)\n",
      "Requirement already satisfied: xxhash in c:\\users\\bristi maity\\appdata\\roaming\\python\\python312\\site-packages (from datasets) (3.4.1)\n",
      "Requirement already satisfied: multiprocess in c:\\users\\bristi maity\\appdata\\roaming\\python\\python312\\site-packages (from datasets) (0.70.16)\n",
      "Requirement already satisfied: fsspec<=2024.2.0,>=2023.1.0 in c:\\users\\bristi maity\\appdata\\roaming\\python\\python312\\site-packages (from fsspec[http]<=2024.2.0,>=2023.1.0->datasets) (2024.2.0)\n",
      "Requirement already satisfied: aiohttp in c:\\users\\bristi maity\\appdata\\roaming\\python\\python312\\site-packages (from datasets) (3.9.3)\n",
      "Requirement already satisfied: huggingface-hub>=0.19.4 in c:\\users\\bristi maity\\appdata\\roaming\\python\\python312\\site-packages (from datasets) (0.21.4)\n",
      "Requirement already satisfied: packaging in c:\\users\\bristi maity\\appdata\\roaming\\python\\python312\\site-packages (from datasets) (23.2)\n",
      "Requirement already satisfied: pyyaml>=5.1 in c:\\users\\bristi maity\\appdata\\roaming\\python\\python312\\site-packages (from datasets) (6.0.1)\n",
      "Requirement already satisfied: aiosignal>=1.1.2 in c:\\users\\bristi maity\\appdata\\roaming\\python\\python312\\site-packages (from aiohttp->datasets) (1.3.1)\n",
      "Requirement already satisfied: attrs>=17.3.0 in c:\\users\\bristi maity\\appdata\\roaming\\python\\python312\\site-packages (from aiohttp->datasets) (23.2.0)\n",
      "Requirement already satisfied: frozenlist>=1.1.1 in c:\\users\\bristi maity\\appdata\\roaming\\python\\python312\\site-packages (from aiohttp->datasets) (1.4.1)\n",
      "Requirement already satisfied: multidict<7.0,>=4.5 in c:\\users\\bristi maity\\appdata\\roaming\\python\\python312\\site-packages (from aiohttp->datasets) (6.0.5)\n",
      "Requirement already satisfied: yarl<2.0,>=1.0 in c:\\users\\bristi maity\\appdata\\roaming\\python\\python312\\site-packages (from aiohttp->datasets) (1.9.4)\n",
      "Requirement already satisfied: typing-extensions>=3.7.4.3 in c:\\users\\bristi maity\\appdata\\roaming\\python\\python312\\site-packages (from huggingface-hub>=0.19.4->datasets) (4.10.0)\n",
      "Requirement already satisfied: charset-normalizer<4,>=2 in c:\\users\\bristi maity\\appdata\\roaming\\python\\python312\\site-packages (from requests>=2.19.0->datasets) (3.3.2)\n",
      "Requirement already satisfied: idna<4,>=2.5 in c:\\users\\bristi maity\\appdata\\roaming\\python\\python312\\site-packages (from requests>=2.19.0->datasets) (3.6)\n",
      "Requirement already satisfied: urllib3<3,>=1.21.1 in c:\\users\\bristi maity\\appdata\\roaming\\python\\python312\\site-packages (from requests>=2.19.0->datasets) (2.2.1)\n",
      "Requirement already satisfied: certifi>=2017.4.17 in c:\\users\\bristi maity\\appdata\\roaming\\python\\python312\\site-packages (from requests>=2.19.0->datasets) (2024.2.2)\n",
      "Requirement already satisfied: colorama in c:\\users\\bristi maity\\appdata\\roaming\\python\\python312\\site-packages (from tqdm>=4.62.1->datasets) (0.4.6)\n",
      "Requirement already satisfied: python-dateutil>=2.8.2 in c:\\users\\bristi maity\\appdata\\roaming\\python\\python312\\site-packages (from pandas->datasets) (2.8.2)\n",
      "Requirement already satisfied: pytz>=2020.1 in c:\\users\\bristi maity\\appdata\\roaming\\python\\python312\\site-packages (from pandas->datasets) (2022.5)\n",
      "Requirement already satisfied: tzdata>=2022.7 in c:\\users\\bristi maity\\appdata\\roaming\\python\\python312\\site-packages (from pandas->datasets) (2023.4)\n",
      "Requirement already satisfied: six>=1.5 in c:\\users\\bristi maity\\appdata\\roaming\\python\\python312\\site-packages (from python-dateutil>=2.8.2->pandas->datasets) (1.16.0)\n"
     ]
    },
    {
     "name": "stderr",
     "output_type": "stream",
     "text": [
      "\n",
      "[notice] A new release of pip is available: 23.3.1 -> 24.0\n",
      "[notice] To update, run: python.exe -m pip install --upgrade pip\n"
     ]
    },
    {
     "name": "stdout",
     "output_type": "stream",
     "text": [
      "Defaulting to user installation because normal site-packages is not writeable\n",
      "Requirement already satisfied: bertviz in c:\\users\\bristi maity\\appdata\\roaming\\python\\python312\\site-packages (1.4.0)\n",
      "Requirement already satisfied: transformers>=2.0 in c:\\users\\bristi maity\\appdata\\roaming\\python\\python312\\site-packages (from bertviz) (4.39.0)\n",
      "Requirement already satisfied: torch>=1.0 in c:\\users\\bristi maity\\appdata\\roaming\\python\\python312\\site-packages (from bertviz) (2.2.1)\n",
      "Requirement already satisfied: tqdm in c:\\users\\bristi maity\\appdata\\roaming\\python\\python312\\site-packages (from bertviz) (4.66.2)\n",
      "Requirement already satisfied: boto3 in c:\\users\\bristi maity\\appdata\\roaming\\python\\python312\\site-packages (from bertviz) (1.34.61)\n",
      "Requirement already satisfied: requests in c:\\users\\bristi maity\\appdata\\roaming\\python\\python312\\site-packages (from bertviz) (2.31.0)\n",
      "Requirement already satisfied: regex in c:\\users\\bristi maity\\appdata\\roaming\\python\\python312\\site-packages (from bertviz) (2023.12.25)\n",
      "Requirement already satisfied: sentencepiece in c:\\users\\bristi maity\\appdata\\roaming\\python\\python312\\site-packages (from bertviz) (0.2.0)\n",
      "Requirement already satisfied: filelock in c:\\users\\bristi maity\\appdata\\roaming\\python\\python312\\site-packages (from torch>=1.0->bertviz) (3.13.1)\n",
      "Requirement already satisfied: typing-extensions>=4.8.0 in c:\\users\\bristi maity\\appdata\\roaming\\python\\python312\\site-packages (from torch>=1.0->bertviz) (4.10.0)\n",
      "Requirement already satisfied: sympy in c:\\users\\bristi maity\\appdata\\roaming\\python\\python312\\site-packages (from torch>=1.0->bertviz) (1.12)\n",
      "Requirement already satisfied: networkx in c:\\users\\bristi maity\\appdata\\roaming\\python\\python312\\site-packages (from torch>=1.0->bertviz) (3.2.1)\n",
      "Requirement already satisfied: jinja2 in c:\\users\\bristi maity\\appdata\\roaming\\python\\python312\\site-packages (from torch>=1.0->bertviz) (3.1.3)\n",
      "Requirement already satisfied: fsspec in c:\\users\\bristi maity\\appdata\\roaming\\python\\python312\\site-packages (from torch>=1.0->bertviz) (2024.2.0)\n",
      "Requirement already satisfied: huggingface-hub<1.0,>=0.19.3 in c:\\users\\bristi maity\\appdata\\roaming\\python\\python312\\site-packages (from transformers>=2.0->bertviz) (0.21.4)\n",
      "Requirement already satisfied: numpy>=1.17 in c:\\users\\bristi maity\\appdata\\roaming\\python\\python312\\site-packages (from transformers>=2.0->bertviz) (1.26.4)\n",
      "Requirement already satisfied: packaging>=20.0 in c:\\users\\bristi maity\\appdata\\roaming\\python\\python312\\site-packages (from transformers>=2.0->bertviz) (23.2)\n",
      "Requirement already satisfied: pyyaml>=5.1 in c:\\users\\bristi maity\\appdata\\roaming\\python\\python312\\site-packages (from transformers>=2.0->bertviz) (6.0.1)\n",
      "Requirement already satisfied: tokenizers<0.19,>=0.14 in c:\\users\\bristi maity\\appdata\\roaming\\python\\python312\\site-packages (from transformers>=2.0->bertviz) (0.15.2)\n",
      "Requirement already satisfied: safetensors>=0.4.1 in c:\\users\\bristi maity\\appdata\\roaming\\python\\python312\\site-packages (from transformers>=2.0->bertviz) (0.4.2)\n",
      "Requirement already satisfied: colorama in c:\\users\\bristi maity\\appdata\\roaming\\python\\python312\\site-packages (from tqdm->bertviz) (0.4.6)\n",
      "Requirement already satisfied: botocore<1.35.0,>=1.34.61 in c:\\users\\bristi maity\\appdata\\roaming\\python\\python312\\site-packages (from boto3->bertviz) (1.34.61)\n",
      "Requirement already satisfied: jmespath<2.0.0,>=0.7.1 in c:\\users\\bristi maity\\appdata\\roaming\\python\\python312\\site-packages (from boto3->bertviz) (1.0.1)\n",
      "Requirement already satisfied: s3transfer<0.11.0,>=0.10.0 in c:\\users\\bristi maity\\appdata\\roaming\\python\\python312\\site-packages (from boto3->bertviz) (0.10.0)\n",
      "Requirement already satisfied: charset-normalizer<4,>=2 in c:\\users\\bristi maity\\appdata\\roaming\\python\\python312\\site-packages (from requests->bertviz) (3.3.2)\n",
      "Requirement already satisfied: idna<4,>=2.5 in c:\\users\\bristi maity\\appdata\\roaming\\python\\python312\\site-packages (from requests->bertviz) (3.6)\n",
      "Requirement already satisfied: urllib3<3,>=1.21.1 in c:\\users\\bristi maity\\appdata\\roaming\\python\\python312\\site-packages (from requests->bertviz) (2.2.1)\n",
      "Requirement already satisfied: certifi>=2017.4.17 in c:\\users\\bristi maity\\appdata\\roaming\\python\\python312\\site-packages (from requests->bertviz) (2024.2.2)\n",
      "Requirement already satisfied: python-dateutil<3.0.0,>=2.1 in c:\\users\\bristi maity\\appdata\\roaming\\python\\python312\\site-packages (from botocore<1.35.0,>=1.34.61->boto3->bertviz) (2.8.2)\n",
      "Collecting urllib3<3,>=1.21.1 (from requests->bertviz)\n",
      "  Using cached urllib3-2.0.7-py3-none-any.whl.metadata (6.6 kB)\n",
      "Requirement already satisfied: MarkupSafe>=2.0 in c:\\users\\bristi maity\\appdata\\roaming\\python\\python312\\site-packages (from jinja2->torch>=1.0->bertviz) (2.1.5)\n",
      "Requirement already satisfied: mpmath>=0.19 in c:\\users\\bristi maity\\appdata\\roaming\\python\\python312\\site-packages (from sympy->torch>=1.0->bertviz) (1.3.0)\n",
      "Requirement already satisfied: six>=1.5 in c:\\users\\bristi maity\\appdata\\roaming\\python\\python312\\site-packages (from python-dateutil<3.0.0,>=2.1->botocore<1.35.0,>=1.34.61->boto3->bertviz) (1.16.0)\n",
      "Using cached urllib3-2.0.7-py3-none-any.whl (124 kB)\n",
      "Installing collected packages: urllib3\n",
      "  Attempting uninstall: urllib3\n",
      "    Found existing installation: urllib3 2.2.1\n",
      "    Uninstalling urllib3-2.2.1:\n",
      "      Successfully uninstalled urllib3-2.2.1\n",
      "Successfully installed urllib3-2.0.7\n"
     ]
    },
    {
     "name": "stderr",
     "output_type": "stream",
     "text": [
      "ERROR: pip's dependency resolver does not currently take into account all the packages that are installed. This behaviour is the source of the following dependency conflicts.\n",
      "pyrebase4 4.7.1 requires requests<2.30,>=2.19.1, but you have requests 2.31.0 which is incompatible.\n",
      "pyrebase4 4.7.1 requires urllib3<2,>=1.21.1, but you have urllib3 2.0.7 which is incompatible.\n",
      "\n",
      "[notice] A new release of pip is available: 23.3.1 -> 24.0\n",
      "[notice] To update, run: python.exe -m pip install --upgrade pip\n"
     ]
    },
    {
     "name": "stdout",
     "output_type": "stream",
     "text": [
      "Defaulting to user installation because normal site-packages is not writeable\n",
      "Requirement already satisfied: umap-learn in c:\\users\\bristi maity\\appdata\\roaming\\python\\python312\\site-packages (0.5.5)\n",
      "Requirement already satisfied: numpy>=1.17 in c:\\users\\bristi maity\\appdata\\roaming\\python\\python312\\site-packages (from umap-learn) (1.26.4)\n",
      "Requirement already satisfied: scipy>=1.3.1 in c:\\users\\bristi maity\\appdata\\roaming\\python\\python312\\site-packages (from umap-learn) (1.12.0)\n",
      "Requirement already satisfied: scikit-learn>=0.22 in c:\\users\\bristi maity\\appdata\\roaming\\python\\python312\\site-packages (from umap-learn) (1.4.0)\n",
      "Requirement already satisfied: numba>=0.51.2 in c:\\users\\bristi maity\\appdata\\roaming\\python\\python312\\site-packages (from umap-learn) (0.59.1)\n",
      "Requirement already satisfied: pynndescent>=0.5 in c:\\users\\bristi maity\\appdata\\roaming\\python\\python312\\site-packages (from umap-learn) (0.5.11)\n",
      "Requirement already satisfied: tqdm in c:\\users\\bristi maity\\appdata\\roaming\\python\\python312\\site-packages (from umap-learn) (4.66.2)\n",
      "Requirement already satisfied: llvmlite<0.43,>=0.42.0dev0 in c:\\users\\bristi maity\\appdata\\roaming\\python\\python312\\site-packages (from numba>=0.51.2->umap-learn) (0.42.0)\n",
      "Requirement already satisfied: joblib>=0.11 in c:\\users\\bristi maity\\appdata\\roaming\\python\\python312\\site-packages (from pynndescent>=0.5->umap-learn) (1.3.2)\n",
      "Requirement already satisfied: threadpoolctl>=2.0.0 in c:\\users\\bristi maity\\appdata\\roaming\\python\\python312\\site-packages (from scikit-learn>=0.22->umap-learn) (3.2.0)\n",
      "Requirement already satisfied: colorama in c:\\users\\bristi maity\\appdata\\roaming\\python\\python312\\site-packages (from tqdm->umap-learn) (0.4.6)\n"
     ]
    },
    {
     "name": "stderr",
     "output_type": "stream",
     "text": [
      "\n",
      "[notice] A new release of pip is available: 23.3.1 -> 24.0\n",
      "[notice] To update, run: python.exe -m pip install --upgrade pip\n"
     ]
    },
    {
     "name": "stdout",
     "output_type": "stream",
     "text": [
      "Defaulting to user installation because normal site-packages is not writeable\n",
      "Requirement already satisfied: sentencepiece in c:\\users\\bristi maity\\appdata\\roaming\\python\\python312\\site-packages (0.2.0)\n"
     ]
    },
    {
     "name": "stderr",
     "output_type": "stream",
     "text": [
      "\n",
      "[notice] A new release of pip is available: 23.3.1 -> 24.0\n",
      "[notice] To update, run: python.exe -m pip install --upgrade pip\n"
     ]
    },
    {
     "name": "stdout",
     "output_type": "stream",
     "text": [
      "Defaulting to user installation because normal site-packages is not writeable\n",
      "Requirement already satisfied: urllib3 in c:\\users\\bristi maity\\appdata\\roaming\\python\\python312\\site-packages (2.0.7)\n",
      "Collecting urllib3\n",
      "  Using cached urllib3-2.2.1-py3-none-any.whl.metadata (6.4 kB)\n",
      "Using cached urllib3-2.2.1-py3-none-any.whl (121 kB)\n",
      "Installing collected packages: urllib3\n",
      "  Attempting uninstall: urllib3\n",
      "    Found existing installation: urllib3 2.0.7\n",
      "    Uninstalling urllib3-2.0.7:\n",
      "      Successfully uninstalled urllib3-2.0.7\n",
      "Successfully installed urllib3-2.2.1\n"
     ]
    },
    {
     "name": "stderr",
     "output_type": "stream",
     "text": [
      "ERROR: pip's dependency resolver does not currently take into account all the packages that are installed. This behaviour is the source of the following dependency conflicts.\n",
      "botocore 1.34.61 requires urllib3<2.1,>=1.25.4; python_version >= \"3.10\", but you have urllib3 2.2.1 which is incompatible.\n",
      "pyrebase4 4.7.1 requires requests<2.30,>=2.19.1, but you have requests 2.31.0 which is incompatible.\n",
      "pyrebase4 4.7.1 requires urllib3<2,>=1.21.1, but you have urllib3 2.2.1 which is incompatible.\n",
      "\n",
      "[notice] A new release of pip is available: 23.3.1 -> 24.0\n",
      "[notice] To update, run: python.exe -m pip install --upgrade pip\n"
     ]
    },
    {
     "name": "stdout",
     "output_type": "stream",
     "text": [
      "Defaulting to user installation because normal site-packages is not writeable\n",
      "Requirement already satisfied: py7zr in c:\\users\\bristi maity\\appdata\\roaming\\python\\python312\\site-packages (0.21.0)\n",
      "Requirement already satisfied: texttable in c:\\users\\bristi maity\\appdata\\roaming\\python\\python312\\site-packages (from py7zr) (1.7.0)\n",
      "Requirement already satisfied: pycryptodomex>=3.16.0 in c:\\users\\bristi maity\\appdata\\roaming\\python\\python312\\site-packages (from py7zr) (3.20.0)\n",
      "Requirement already satisfied: pyzstd>=0.15.9 in c:\\users\\bristi maity\\appdata\\roaming\\python\\python312\\site-packages (from py7zr) (0.15.9)\n",
      "Requirement already satisfied: pyppmd<1.2.0,>=1.1.0 in c:\\users\\bristi maity\\appdata\\roaming\\python\\python312\\site-packages (from py7zr) (1.1.0)\n",
      "Requirement already satisfied: pybcj<1.1.0,>=1.0.0 in c:\\users\\bristi maity\\appdata\\roaming\\python\\python312\\site-packages (from py7zr) (1.0.2)\n",
      "Requirement already satisfied: multivolumefile>=0.2.3 in c:\\users\\bristi maity\\appdata\\roaming\\python\\python312\\site-packages (from py7zr) (0.2.3)\n",
      "Requirement already satisfied: inflate64<1.1.0,>=1.0.0 in c:\\users\\bristi maity\\appdata\\roaming\\python\\python312\\site-packages (from py7zr) (1.0.0)\n",
      "Requirement already satisfied: brotli>=1.1.0 in c:\\users\\bristi maity\\appdata\\roaming\\python\\python312\\site-packages (from py7zr) (1.1.0)\n",
      "Requirement already satisfied: psutil in c:\\users\\bristi maity\\appdata\\roaming\\python\\python312\\site-packages (from py7zr) (5.9.8)\n"
     ]
    },
    {
     "name": "stderr",
     "output_type": "stream",
     "text": [
      "\n",
      "[notice] A new release of pip is available: 23.3.1 -> 24.0\n",
      "[notice] To update, run: python.exe -m pip install --upgrade pip\n"
     ]
    }
   ],
   "source": [
    "!pip install -U transformers\n",
    "!pip install -U accelerate\n",
    "!pip install -U datasets\n",
    "!pip install -U bertviz\n",
    "!pip install -U umap-learn\n",
    "!pip install -U sentencepiece\n",
    "!pip install --upgrade urllib3\n",
    "!pip install py7zr"
   ]
  },
  {
   "cell_type": "code",
   "execution_count": 2,
   "id": "612f36ee-9726-436c-9846-68a2f321e924",
   "metadata": {},
   "outputs": [],
   "source": [
    "from datasets import load_dataset\n",
    "from transformers import pipeline\n",
    "\n",
    "from transformers import AutoModelForSeq2SeqLM, AutoTokenizer\n",
    "import torch"
   ]
  },
  {
   "cell_type": "code",
   "execution_count": 3,
   "id": "85089237-5fbf-4ce3-9d83-55775f25a2fb",
   "metadata": {},
   "outputs": [],
   "source": [
    "device = 'gpu'\n",
    "model_ckpt = 'facebook/bart-large-cnn'\n",
    "tokenizer = AutoTokenizer.from_pretrained(model_ckpt)\n",
    "model = AutoModelForSeq2SeqLM.from_pretrained(model_ckpt)"
   ]
  },
  {
   "cell_type": "code",
   "execution_count": 4,
   "id": "4420599e-3c72-4b35-bdcb-cfcf03dcff9a",
   "metadata": {},
   "outputs": [
    {
     "data": {
      "text/plain": [
       "DatasetDict({\n",
       "    train: Dataset({\n",
       "        features: ['File_path', 'Articles', 'Summaries'],\n",
       "        num_rows: 2224\n",
       "    })\n",
       "})"
      ]
     },
     "execution_count": 4,
     "metadata": {},
     "output_type": "execute_result"
    }
   ],
   "source": [
    "summary_data = load_dataset('gopalkalpande/bbc-news-summary')\n",
    "summary_data"
   ]
  },
  {
   "cell_type": "code",
   "execution_count": 5,
   "id": "e202b8e9-caa2-47f0-aa47-d5f16623f337",
   "metadata": {},
   "outputs": [
    {
     "data": {
      "text/plain": [
       "{'File_path': 'politics',\n",
       " 'Articles': 'Budget to set scene for election..Gordon Brown will seek to put the economy at the centre of Labour\\'s bid for a third term in power when he delivers his ninth Budget at 1230 GMT. He is expected to stress the importance of continued economic stability, with low unemployment and interest rates. The chancellor is expected to freeze petrol duty and raise the stamp duty threshold from £60,000. But the Conservatives and Lib Dems insist voters face higher taxes and more means-testing under Labour...Treasury officials have said there will not be a pre-election giveaway, but Mr Brown is thought to have about £2bn to spare...- Increase in the stamp duty threshold from £60,000. - A freeze on petrol duty. - An extension of tax credit scheme for poorer families. - Possible help for pensioners The stamp duty threshold rise is intended to help first time buyers - a likely theme of all three of the main parties\\' general election manifestos. Ten years ago, buyers had a much greater chance of avoiding stamp duty, with close to half a million properties, in England and Wales alone, selling for less than £60,000. Since then, average UK property prices have more than doubled while the starting threshold for stamp duty has not increased. Tax credits As a result, the number of properties incurring stamp duty has rocketed as has the government\\'s tax take. The Liberal Democrats unveiled their own proposals to raise the stamp duty threshold to £150,000 in February...The Tories are also thought likely to propose increased thresholds, with shadow chancellor Oliver Letwin branding stamp duty a \"classic Labour stealth tax\". The Tories say whatever the chancellor gives away will be clawed back in higher taxes if Labour is returned to power. Shadow Treasury chief secretary George Osborne said: \"Everyone who looks at the British economy at the moment says there has been a sharp deterioration in the public finances, that there is a black hole,\" he said. \"If Labour is elected there will be a very substantial tax increase in the Budget after the election, of the order of around £10bn.\"..But Mr Brown\\'s former advisor Ed Balls, now a parliamentary hopeful, said an examination of Tory plans for the economy showed there would be a £35bn difference in investment by the end of the next parliament between the two main parties. He added: \"I don\\'t accept there is any need for any changes to the plans we have set out to meet our spending commitments.\"..For the Lib Dems David Laws said: \"The chancellor will no doubt tell us today how wonderfully the economy is doing,\" he said. \"But a lot of that is built on an increase in personal and consumer debt over the last few years - that makes the economy quite vulnerable potentially if interest rates ever do have to go up in a significant way.\" SNP leader Alex Salmond said his party would introduce a £2,000 grant for first time buyers, reduce corporation tax and introduce a citizens pension free from means testing. Plaid Cymru\\'s economics spokesman Adam Price said he wanted help to get people on the housing ladder and an increase in the minimum wage to £5.60 an hour.',\n",
       " 'Summaries': '- Increase in the stamp duty threshold from £60,000 - A freeze on petrol duty - An extension of tax credit scheme for poorer families - Possible help for pensioners The stamp duty threshold rise is intended to help first time buyers - a likely theme of all three of the main parties\\' general election manifestos.The chancellor is expected to freeze petrol duty and raise the stamp duty threshold from £60,000.The Tories are also thought likely to propose increased thresholds, with shadow chancellor Oliver Letwin branding stamp duty a \"classic Labour stealth tax\".Tax credits As a result, the number of properties incurring stamp duty has rocketed as has the government\\'s tax take.Since then, average UK property prices have more than doubled while the starting threshold for stamp duty has not increased.For the Lib Dems David Laws said: \"The chancellor will no doubt tell us today how wonderfully the economy is doing,\" he said.The Liberal Democrats unveiled their own proposals to raise the stamp duty threshold to £150,000 in February.\"If Labour is elected there will be a very substantial tax increase in the Budget after the election, of the order of around £10bn.\"'}"
      ]
     },
     "execution_count": 5,
     "metadata": {},
     "output_type": "execute_result"
    }
   ],
   "source": [
    "summary_data['train'][0]"
   ]
  },
  {
   "cell_type": "code",
   "execution_count": 6,
   "id": "e8b169dc-9bbd-4463-8d18-fee1dd4ca7bd",
   "metadata": {},
   "outputs": [],
   "source": [
    "article_len = [len(x['Articles'].split()) for x in summary_data['train']]\n",
    "summary_len = [len(x['Summaries'].split()) for x in summary_data['train']]"
   ]
  },
  {
   "cell_type": "code",
   "execution_count": 7,
   "id": "fda1e09a-f839-47eb-9024-bc5b83606618",
   "metadata": {},
   "outputs": [
    {
     "data": {
      "text/html": [
       "<div>\n",
       "<style scoped>\n",
       "    .dataframe tbody tr th:only-of-type {\n",
       "        vertical-align: middle;\n",
       "    }\n",
       "\n",
       "    .dataframe tbody tr th {\n",
       "        vertical-align: top;\n",
       "    }\n",
       "\n",
       "    .dataframe thead th {\n",
       "        text-align: right;\n",
       "    }\n",
       "</style>\n",
       "<table border=\"1\" class=\"dataframe\">\n",
       "  <thead>\n",
       "    <tr style=\"text-align: right;\">\n",
       "      <th></th>\n",
       "      <th>Article Length</th>\n",
       "      <th>Summary Length</th>\n",
       "    </tr>\n",
       "  </thead>\n",
       "  <tbody>\n",
       "    <tr>\n",
       "      <th>0</th>\n",
       "      <td>532</td>\n",
       "      <td>192</td>\n",
       "    </tr>\n",
       "    <tr>\n",
       "      <th>1</th>\n",
       "      <td>496</td>\n",
       "      <td>266</td>\n",
       "    </tr>\n",
       "    <tr>\n",
       "      <th>2</th>\n",
       "      <td>533</td>\n",
       "      <td>225</td>\n",
       "    </tr>\n",
       "    <tr>\n",
       "      <th>3</th>\n",
       "      <td>490</td>\n",
       "      <td>223</td>\n",
       "    </tr>\n",
       "    <tr>\n",
       "      <th>4</th>\n",
       "      <td>435</td>\n",
       "      <td>185</td>\n",
       "    </tr>\n",
       "    <tr>\n",
       "      <th>...</th>\n",
       "      <td>...</td>\n",
       "      <td>...</td>\n",
       "    </tr>\n",
       "    <tr>\n",
       "      <th>2219</th>\n",
       "      <td>222</td>\n",
       "      <td>90</td>\n",
       "    </tr>\n",
       "    <tr>\n",
       "      <th>2220</th>\n",
       "      <td>394</td>\n",
       "      <td>180</td>\n",
       "    </tr>\n",
       "    <tr>\n",
       "      <th>2221</th>\n",
       "      <td>318</td>\n",
       "      <td>120</td>\n",
       "    </tr>\n",
       "    <tr>\n",
       "      <th>2222</th>\n",
       "      <td>401</td>\n",
       "      <td>197</td>\n",
       "    </tr>\n",
       "    <tr>\n",
       "      <th>2223</th>\n",
       "      <td>324</td>\n",
       "      <td>148</td>\n",
       "    </tr>\n",
       "  </tbody>\n",
       "</table>\n",
       "<p>2224 rows × 2 columns</p>\n",
       "</div>"
      ],
      "text/plain": [
       "      Article Length  Summary Length\n",
       "0                532             192\n",
       "1                496             266\n",
       "2                533             225\n",
       "3                490             223\n",
       "4                435             185\n",
       "...              ...             ...\n",
       "2219             222              90\n",
       "2220             394             180\n",
       "2221             318             120\n",
       "2222             401             197\n",
       "2223             324             148\n",
       "\n",
       "[2224 rows x 2 columns]"
      ]
     },
     "execution_count": 7,
     "metadata": {},
     "output_type": "execute_result"
    }
   ],
   "source": [
    "import pandas as pd\n",
    "\n",
    "df = pd.DataFrame([article_len, summary_len]).T\n",
    "df.columns = ['Article Length', 'Summary Length']\n",
    "df"
   ]
  },
  {
   "cell_type": "code",
   "execution_count": 8,
   "id": "b554d089-3e19-48bd-a8b6-06ccb55c58ad",
   "metadata": {},
   "outputs": [
    {
     "data": {
      "text/plain": [
       "array([[<Axes: title={'center': 'Article Length'}>,\n",
       "        <Axes: title={'center': 'Summary Length'}>]], dtype=object)"
      ]
     },
     "execution_count": 8,
     "metadata": {},
     "output_type": "execute_result"
    },
    {
     "data": {
      "image/png": "[encoded data removed]",
      "text/plain": [
       "<Figure size 1500x500 with 2 Axes>"
      ]
     },
     "metadata": {},
     "output_type": "display_data"
    }
   ],
   "source": [
    "df.hist(figsize=(15,5))"
   ]
  },
  {
   "cell_type": "code",
   "execution_count": 9,
   "id": "991e554c-dc51-4fb1-87cb-000c8b636243",
   "metadata": {},
   "outputs": [],
   "source": [
    "#data collator\n",
    "\n",
    "def get_feature(batch):\n",
    "  encodings = tokenizer(batch['Articles'], text_target = batch['Summaries'],\n",
    "                        max_length = 1024, truncation=True)\n",
    "  encodings = {'input_ids': encodings['input_ids'],\n",
    "               'attention_mask': encodings['attention_mask'],\n",
    "               'labels': encodings['labels']}\n",
    "  return encodings"
   ]
  },
  {
   "cell_type": "code",
   "execution_count": 10,
   "id": "358c7d04-dab2-4591-8724-acfe019f44ee",
   "metadata": {},
   "outputs": [],
   "source": [
    "summary_data_pt = summary_data.map(get_feature, batched=True)"
   ]
  },
  {
   "cell_type": "code",
   "execution_count": 11,
   "id": "c1c0ba94-c5cf-48d7-a649-db8096b1e894",
   "metadata": {},
   "outputs": [
    {
     "data": {
      "text/plain": [
       "DatasetDict({\n",
       "    train: Dataset({\n",
       "        features: ['File_path', 'Articles', 'Summaries', 'input_ids', 'attention_mask', 'labels'],\n",
       "        num_rows: 2224\n",
       "    })\n",
       "})"
      ]
     },
     "execution_count": 11,
     "metadata": {},
     "output_type": "execute_result"
    }
   ],
   "source": [
    "summary_data_pt"
   ]
  },
  {
   "cell_type": "code",
   "execution_count": 12,
   "id": "069072fa-2040-40d1-9f48-fb6e2fd9eb64",
   "metadata": {},
   "outputs": [],
   "source": [
    "columns = ['input_ids','labels','attention_mask']\n",
    "summary_data_pt.set_format(type='torch',columns = columns)"
   ]
  },
  {
   "cell_type": "code",
   "execution_count": 13,
   "id": "1d6daed6-932b-4e2d-88a4-080a6970b706",
   "metadata": {},
   "outputs": [],
   "source": [
    "from transformers import DataCollatorForSeq2Seq\n",
    "data_collator = DataCollatorForSeq2Seq(tokenizer, model=model)"
   ]
  },
  {
   "cell_type": "code",
   "execution_count": 14,
   "id": "e258093b-f7b3-4c9a-87c0-4a653e708335",
   "metadata": {},
   "outputs": [
    {
     "name": "stderr",
     "output_type": "stream",
     "text": [
      "C:\\Users\\Bristi Maity\\AppData\\Roaming\\Python\\Python312\\site-packages\\accelerate\\accelerator.py:432: FutureWarning: Passing the following arguments to `Accelerator` is deprecated and will be removed in version 1.0 of Accelerate: dict_keys(['dispatch_batches', 'split_batches', 'even_batches', 'use_seedable_sampler']). Please pass an `accelerate.DataLoaderConfiguration` instead: \n",
      "dataloader_config = DataLoaderConfiguration(dispatch_batches=None, split_batches=False, even_batches=True, use_seedable_sampler=True)\n",
      "  warnings.warn(\n"
     ]
    }
   ],
   "source": [
    "from transformers import TrainingArguments, Trainer\n",
    "\n",
    "training_args = TrainingArguments(\n",
    "    output_dir = 'bart_summary',\n",
    "    num_train_epochs=1,\n",
    "    warmup_steps=500,\n",
    "    per_device_train_batch_size=4,\n",
    "    per_device_eval_batch_size=4,\n",
    "    weight_decay = 0.01,\n",
    "    logging_steps =10,\n",
    "    evaluation_strategy='steps',\n",
    "    eval_steps=500,\n",
    "    save_steps=1e6,\n",
    "    gradient_accumulation_steps=16\n",
    ")\n",
    "\n",
    "trainer = Trainer(model=model, args= training_args, tokenizer=tokenizer, data_collator=data_collator, train_dataset = summary_data_pt['train'])"
   ]
  },
  {
   "cell_type": "code",
   "execution_count": 15,
   "id": "8a933a91-d0bd-447c-bb7e-40a5cd054e6f",
   "metadata": {},
   "outputs": [
    {
     "data": {
      "text/html": [
       "\n",
       "    <div>\n",
       "      \n",
       "      <progress value='34' max='34' style='width:300px; height:20px; vertical-align: middle;'></progress>\n",
       "      [34/34 7:07:43, Epoch 0/1]\n",
       "    </div>\n",
       "    <table border=\"1\" class=\"dataframe\">\n",
       "  <thead>\n",
       " <tr style=\"text-align: left;\">\n",
       "      <th>Step</th>\n",
       "      <th>Training Loss</th>\n",
       "      <th>Validation Loss</th>\n",
       "    </tr>\n",
       "  </thead>\n",
       "  <tbody>\n",
       "  </tbody>\n",
       "</table><p>"
      ],
      "text/plain": [
       "<IPython.core.display.HTML object>"
      ]
     },
     "metadata": {},
     "output_type": "display_data"
    },
    {
     "data": {
      "text/plain": [
       "TrainOutput(global_step=34, training_loss=0.5447245170088375, metrics={'train_runtime': 26576.6957, 'train_samples_per_second': 0.084, 'train_steps_per_second': 0.001, 'total_flos': 3188386506866688.0, 'train_loss': 0.5447245170088375, 'epoch': 0.98})"
      ]
     },
     "execution_count": 15,
     "metadata": {},
     "output_type": "execute_result"
    }
   ],
   "source": [
    "trainer.train()"
   ]
  },
  {
   "cell_type": "code",
   "execution_count": 16,
   "id": "d2eca0be-8a3f-47f3-858c-2005f35b6213",
   "metadata": {},
   "outputs": [
    {
     "name": "stderr",
     "output_type": "stream",
     "text": [
      "Some non-default generation parameters are set in the model config. These should go into a GenerationConfig file (https://huggingface.co/docs/transformers/generation_strategies#save-a-custom-decoding-strategy-with-your-model) instead. This warning will be raised to an exception in v4.41.\n",
      "Non-default generation parameters: {'max_length': 142, 'min_length': 56, 'early_stopping': True, 'num_beams': 4, 'length_penalty': 2.0, 'no_repeat_ngram_size': 3, 'forced_bos_token_id': 0, 'forced_eos_token_id': 2}\n"
     ]
    }
   ],
   "source": [
    "trainer.save_model('bart_summarization_model')"
   ]
  },
  {
   "cell_type": "code",
   "execution_count": 21,
   "id": "846e26e3-9395-4b26-ad17-df09c8ebb438",
   "metadata": {},
   "outputs": [
    {
     "name": "stderr",
     "output_type": "stream",
     "text": [
      "Your max_length is set to 128, but your input_length is only 99. Since this is a summarization task, where outputs shorter than the input are typically wanted, you might consider decreasing max_length manually, e.g. summarizer('...', max_length=49)\n"
     ]
    },
    {
     "name": "stdout",
     "output_type": "stream",
     "text": [
      "[{'summary_text': \"The world's largest desert is not the Sahara, but actually Antarctica. Antarctica is classified as a desert because it receives very little precipitation, with most parts receiving less than 200 millimeters (8 inches) of precipitation per year. This makes it the largest desert on Earth by area, covering approximately 14 million square kilometers (5.4 million square miles)\"}]\n"
     ]
    }
   ],
   "source": [
    "#custom prediction\n",
    "pipe = pipeline('summarization', model='bart_summarization_model')\n",
    "gen_kwargs ={'length_penalty': 0.8, 'num_beams': 8,\"max_length\": 128}\n",
    "\n",
    "custom_article =\"\"\"\n",
    "Did you know that the world's largest desert is not the Sahara, but actually Antarctica? Antarctica is classified as a desert because it receives very little precipitation, with most parts receiving less than 200 millimeters (8 inches) of precipitation per year. Despite its icy landscape, Antarctica is considered a desert due to its low humidity and lack of rainfall. This makes it the largest desert on Earth by area, covering approximately 14 million square kilometers (5.4 million square miles).\n",
    "\"\"\"\n",
    "print(pipe(custom_article, **gen_kwargs))"
   ]
  },
  {
   "cell_type": "code",
   "execution_count": 22,
   "id": "4583274e-7e41-4e53-b429-58406420ab67",
   "metadata": {},
   "outputs": [
    {
     "name": "stderr",
     "output_type": "stream",
     "text": [
      "'zip' is not recognized as an internal or external command,\n",
      "operable program or batch file.\n"
     ]
    }
   ],
   "source": [
    "!zip bart_summarization.zip -r bart_summarization_model_zip/"
   ]
  },
  {
   "cell_type": "code",
   "execution_count": null,
   "id": "0d4c61da-bdd6-4f6c-8bf6-63e44248602e",
   "metadata": {},
   "outputs": [],
   "source": []
  }
 ],
 "metadata": {
  "kernelspec": {
   "display_name": "Python 3 (ipykernel)",
   "language": "python",
   "name": "python3"
  },
  "language_info": {
   "codemirror_mode": {
    "name": "ipython",
    "version": 3
   },
   "file_extension": ".py",
   "mimetype": "text/x-python",
   "name": "python",
   "nbconvert_exporter": "python",
   "pygments_lexer": "ipython3",
   "version": "3.12.0"
  }
 },
 "nbformat": 4,
 "nbformat_minor": 5
}
